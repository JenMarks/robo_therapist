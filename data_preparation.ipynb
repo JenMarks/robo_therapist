{
 "cells": [
  {
   "cell_type": "markdown",
   "metadata": {
    "toc": true
   },
   "source": [
    "<h1>Table of Contents<span class=\"tocSkip\"></span></h1>\n",
    "<div class=\"toc\"><ul class=\"toc-item\"><li><span><a href=\"#Dataset-Preparation-Notebook\" data-toc-modified-id=\"Dataset-Preparation-Notebook-1\"><span class=\"toc-item-num\">1&nbsp;&nbsp;</span>Dataset Preparation Notebook</a></span><ul class=\"toc-item\"><li><span><a href=\"#Developement\" data-toc-modified-id=\"Developement-1.1\"><span class=\"toc-item-num\">1.1&nbsp;&nbsp;</span>Developement</a></span></li><li><span><a href=\"#Results\" data-toc-modified-id=\"Results-1.2\"><span class=\"toc-item-num\">1.2&nbsp;&nbsp;</span>Results</a></span></li></ul></li></ul></div>"
   ]
  },
  {
   "cell_type": "markdown",
   "metadata": {
    "colab_type": "text",
    "id": "YgkSnLZWKEUl"
   },
   "source": [
    "# Dataset Preparation Notebook\n",
    "---\n",
    "In this notebook we will prepare a dataset for training from the `.csv` data provided. We will use the following **tips** as the general guidline for developing this dataset:\n",
    " 1. The first sentence from the therapist's message is often a good reflection.\n",
    " 2. Sentences that start with \"seems like\" or sounds like\" have the potential to be good reflections.\n",
    "\n",
    "Our datset will be a text file were each entry is a patient's case followed by the following sentences depending on their availability:\n",
    " 1. the first sentence of the therapist's message.\n",
    " 2. the sentence in the which either of these keywords appear:\n",
    "   1. seems like\n",
    "   2. sounds like\n",
    "   3. feels like"
   ]
  },
  {
   "cell_type": "markdown",
   "metadata": {
    "colab_type": "text",
    "id": "P6a_QujbNBbY"
   },
   "source": [
    "## Developement\n",
    "---\n",
    "We will begin by importing the needed libraries, mounting Google Drive (where the original data resides and the processed data will be written to), and defining some helper functions."
   ]
  },
  {
   "cell_type": "code",
   "execution_count": 0,
   "metadata": {
    "colab": {},
    "colab_type": "code",
    "id": "mSKO0zmgFAkw"
   },
   "outputs": [],
   "source": [
    "import pandas as pd\n",
    "import string\n",
    "from tqdm.notebook import tqdm"
   ]
  },
  {
   "cell_type": "code",
   "execution_count": 0,
   "metadata": {
    "colab": {},
    "colab_type": "code",
    "id": "yz63JRrgNggg"
   },
   "outputs": [],
   "source": [
    "def clean_text(text):\n",
    "    text = str(text)\n",
    "    text = text.replace(\"\\n\", \" \").replace(\"\\t\", \" \").replace(\"  \", \" \").strip()\n",
    "    text = text.translate(str.maketrans(\"\", \"\", string.punctuation))\n",
    "    text = text + \".\"\n",
    "    return text"
   ]
  },
  {
   "cell_type": "code",
   "execution_count": 0,
   "metadata": {
    "colab": {},
    "colab_type": "code",
    "id": "CL2x5dLkNiIH"
   },
   "outputs": [],
   "source": [
    "def first_sentence(text):\n",
    "    text = str(text)\n",
    "    period = text.find(\".\") + 1\n",
    "    text = text[:period]\n",
    "    return text"
   ]
  },
  {
   "cell_type": "code",
   "execution_count": 0,
   "metadata": {
    "colab": {},
    "colab_type": "code",
    "id": "Urs1414sNj-P"
   },
   "outputs": [],
   "source": [
    "def sentence_with_key_words(text, key_words):\n",
    "    text = str(text)\n",
    "    text_lower = text.lower()\n",
    "    for k in key_words:\n",
    "        pos = text_lower.find(k)\n",
    "        if pos > 0:\n",
    "            return text[pos : text.find(\".\", pos)]\n",
    "    return None"
   ]
  },
  {
   "cell_type": "code",
   "execution_count": 0,
   "metadata": {
    "colab": {},
    "colab_type": "code",
    "id": "J59KyZWfNmXJ"
   },
   "outputs": [],
   "source": [
    "def dataset_maker(df, q_col, ans_col, key_words, file_out):\n",
    "    processed_data = \"\"\n",
    "    for i, row in tqdm(df.iterrows(), total=len(df), desc=\"Processing data\"):\n",
    "        q = clean_text(row[q_col])\n",
    "        ans = clean_text(first_sentence(row[ans_col]))\n",
    "        processed_data += q + ans + \"\\n\\n\"\n",
    "        key_search = sentence_with_key_words(row[ans_col], key_words)\n",
    "        if key_search is not None:\n",
    "            processed_data += q + clean_text(key_search)\n",
    "\n",
    "    with open(file_out, \"w\") as f:\n",
    "        f.write(processed_data)"
   ]
  },
  {
   "cell_type": "code",
   "execution_count": 5,
   "metadata": {
    "colab": {
     "base_uri": "https://localhost:8080/",
     "height": 122
    },
    "colab_type": "code",
    "id": "FVwcPgy3IoBm",
    "outputId": "eb9b8cd0-4732-4e80-9b32-bc313a4f0578"
   },
   "outputs": [
    {
     "name": "stdout",
     "output_type": "stream",
     "text": [
      "Go to this URL in a browser: https://accounts.google.com/o/oauth2/auth?client_id=947318989803-6bn6qk8qdgf4n4g3pfee6491hc0brc4i.apps.googleusercontent.com&redirect_uri=urn%3aietf%3awg%3aoauth%3a2.0%3aoob&response_type=code&scope=email%20https%3a%2f%2fwww.googleapis.com%2fauth%2fdocs.test%20https%3a%2f%2fwww.googleapis.com%2fauth%2fdrive%20https%3a%2f%2fwww.googleapis.com%2fauth%2fdrive.photos.readonly%20https%3a%2f%2fwww.googleapis.com%2fauth%2fpeopleapi.readonly\n",
      "\n",
      "Enter your authorization code:\n",
      "··········\n",
      "Mounted at /gdrive\n"
     ]
    }
   ],
   "source": [
    "from google.colab import drive\n",
    "drive.mount('/gdrive')"
   ]
  },
  {
   "cell_type": "code",
   "execution_count": 0,
   "metadata": {
    "colab": {},
    "colab_type": "code",
    "id": "Cp10nH7bJbKU"
   },
   "outputs": [],
   "source": [
    "df = pd.read_csv(\"../gdrive/My Drive/counsel_chat.csv\")"
   ]
  },
  {
   "cell_type": "markdown",
   "metadata": {
    "colab_type": "text",
    "id": "F1Vku1oVNq2d"
   },
   "source": [
    "## Results\n",
    "---\n",
    "Now that we have developed all we needed we can simply call the `dataset_maker` and it will produce our dataset."
   ]
  },
  {
   "cell_type": "code",
   "execution_count": 14,
   "metadata": {
    "colab": {
     "base_uri": "https://localhost:8080/",
     "height": 66,
     "referenced_widgets": [
      "7b8f09e6e1124a408e11dc59d7314eca",
      "4ee17661201548aa95cf06f0973a7179",
      "fbc951015ca743dfa624792f8ef230e8",
      "2592663a8e6d48b4bbaf74a99f9eb027",
      "5c164bb535cc41778743e3f78849449f",
      "a232c992b8a04123a5aa8a069b036bb3",
      "2025d9c4cd204ba8941135227a067a03",
      "fe830462dd8446ba9d9425bc83b2982c"
     ]
    },
    "colab_type": "code",
    "id": "WK748MvaOEF-",
    "outputId": "8057b2d6-499f-43d4-b35f-634d787ded73"
   },
   "outputs": [
    {
     "data": {
      "application/vnd.jupyter.widget-view+json": {
       "model_id": "7b8f09e6e1124a408e11dc59d7314eca",
       "version_major": 2,
       "version_minor": 0
      },
      "text/plain": [
       "HBox(children=(IntProgress(value=0, description='Processing data', max=2271, style=ProgressStyle(description_w…"
      ]
     },
     "metadata": {
      "tags": []
     },
     "output_type": "display_data"
    },
    {
     "name": "stdout",
     "output_type": "stream",
     "text": [
      "\n"
     ]
    }
   ],
   "source": [
    "input_datamaker = {\n",
    "    \"df\": df,\n",
    "    \"q_col\": \"questionText\",\n",
    "    \"ans_col\": \"answerText\",\n",
    "    \"key_words\": [\"seems like\", \"sounds like\", \"feels like\"],\n",
    "    \"file_out\": \"../gdrive/My Drive/councelchat.txt\",\n",
    "}\n",
    "dataset_maker(**input_datamaker)"
   ]
  }
 ],
 "metadata": {
  "colab": {
   "collapsed_sections": [],
   "name": "data_preparation.ipynb",
   "provenance": []
  },
  "kernelspec": {
   "display_name": "Python 3 (ipykernel)",
   "language": "python",
   "name": "python3"
  },
  "language_info": {
   "codemirror_mode": {
    "name": "ipython",
    "version": 3
   },
   "file_extension": ".py",
   "mimetype": "text/x-python",
   "name": "python",
   "nbconvert_exporter": "python",
   "pygments_lexer": "ipython3",
   "version": "3.8.16"
  },
  "toc": {
   "base_numbering": 1,
   "nav_menu": {},
   "number_sections": true,
   "sideBar": true,
   "skip_h1_title": false,
   "title_cell": "Table of Contents",
   "title_sidebar": "Contents",
   "toc_cell": true,
   "toc_position": {},
   "toc_section_display": true,
   "toc_window_display": false
  },
  "widgets": {
   "application/vnd.jupyter.widget-state+json": {
    "2025d9c4cd204ba8941135227a067a03": {
     "model_module": "@jupyter-widgets/controls",
     "model_name": "DescriptionStyleModel",
     "state": {
      "_model_module": "@jupyter-widgets/controls",
      "_model_module_version": "1.5.0",
      "_model_name": "DescriptionStyleModel",
      "_view_count": null,
      "_view_module": "@jupyter-widgets/base",
      "_view_module_version": "1.2.0",
      "_view_name": "StyleView",
      "description_width": ""
     }
    },
    "2592663a8e6d48b4bbaf74a99f9eb027": {
     "model_module": "@jupyter-widgets/controls",
     "model_name": "HTMLModel",
     "state": {
      "_dom_classes": [],
      "_model_module": "@jupyter-widgets/controls",
      "_model_module_version": "1.5.0",
      "_model_name": "HTMLModel",
      "_view_count": null,
      "_view_module": "@jupyter-widgets/controls",
      "_view_module_version": "1.5.0",
      "_view_name": "HTMLView",
      "description": "",
      "description_tooltip": null,
      "layout": "IPY_MODEL_fe830462dd8446ba9d9425bc83b2982c",
      "placeholder": "​",
      "style": "IPY_MODEL_2025d9c4cd204ba8941135227a067a03",
      "value": " 2271/2271 [00:00&lt;00:00, 5116.85it/s]"
     }
    },
    "4ee17661201548aa95cf06f0973a7179": {
     "model_module": "@jupyter-widgets/base",
     "model_name": "LayoutModel",
     "state": {
      "_model_module": "@jupyter-widgets/base",
      "_model_module_version": "1.2.0",
      "_model_name": "LayoutModel",
      "_view_count": null,
      "_view_module": "@jupyter-widgets/base",
      "_view_module_version": "1.2.0",
      "_view_name": "LayoutView",
      "align_content": null,
      "align_items": null,
      "align_self": null,
      "border": null,
      "bottom": null,
      "display": null,
      "flex": null,
      "flex_flow": null,
      "grid_area": null,
      "grid_auto_columns": null,
      "grid_auto_flow": null,
      "grid_auto_rows": null,
      "grid_column": null,
      "grid_gap": null,
      "grid_row": null,
      "grid_template_areas": null,
      "grid_template_columns": null,
      "grid_template_rows": null,
      "height": null,
      "justify_content": null,
      "justify_items": null,
      "left": null,
      "margin": null,
      "max_height": null,
      "max_width": null,
      "min_height": null,
      "min_width": null,
      "object_fit": null,
      "object_position": null,
      "order": null,
      "overflow": null,
      "overflow_x": null,
      "overflow_y": null,
      "padding": null,
      "right": null,
      "top": null,
      "visibility": null,
      "width": null
     }
    },
    "5c164bb535cc41778743e3f78849449f": {
     "model_module": "@jupyter-widgets/controls",
     "model_name": "ProgressStyleModel",
     "state": {
      "_model_module": "@jupyter-widgets/controls",
      "_model_module_version": "1.5.0",
      "_model_name": "ProgressStyleModel",
      "_view_count": null,
      "_view_module": "@jupyter-widgets/base",
      "_view_module_version": "1.2.0",
      "_view_name": "StyleView",
      "bar_color": null,
      "description_width": "initial"
     }
    },
    "7b8f09e6e1124a408e11dc59d7314eca": {
     "model_module": "@jupyter-widgets/controls",
     "model_name": "HBoxModel",
     "state": {
      "_dom_classes": [],
      "_model_module": "@jupyter-widgets/controls",
      "_model_module_version": "1.5.0",
      "_model_name": "HBoxModel",
      "_view_count": null,
      "_view_module": "@jupyter-widgets/controls",
      "_view_module_version": "1.5.0",
      "_view_name": "HBoxView",
      "box_style": "",
      "children": [
       "IPY_MODEL_fbc951015ca743dfa624792f8ef230e8",
       "IPY_MODEL_2592663a8e6d48b4bbaf74a99f9eb027"
      ],
      "layout": "IPY_MODEL_4ee17661201548aa95cf06f0973a7179"
     }
    },
    "a232c992b8a04123a5aa8a069b036bb3": {
     "model_module": "@jupyter-widgets/base",
     "model_name": "LayoutModel",
     "state": {
      "_model_module": "@jupyter-widgets/base",
      "_model_module_version": "1.2.0",
      "_model_name": "LayoutModel",
      "_view_count": null,
      "_view_module": "@jupyter-widgets/base",
      "_view_module_version": "1.2.0",
      "_view_name": "LayoutView",
      "align_content": null,
      "align_items": null,
      "align_self": null,
      "border": null,
      "bottom": null,
      "display": null,
      "flex": null,
      "flex_flow": null,
      "grid_area": null,
      "grid_auto_columns": null,
      "grid_auto_flow": null,
      "grid_auto_rows": null,
      "grid_column": null,
      "grid_gap": null,
      "grid_row": null,
      "grid_template_areas": null,
      "grid_template_columns": null,
      "grid_template_rows": null,
      "height": null,
      "justify_content": null,
      "justify_items": null,
      "left": null,
      "margin": null,
      "max_height": null,
      "max_width": null,
      "min_height": null,
      "min_width": null,
      "object_fit": null,
      "object_position": null,
      "order": null,
      "overflow": null,
      "overflow_x": null,
      "overflow_y": null,
      "padding": null,
      "right": null,
      "top": null,
      "visibility": null,
      "width": null
     }
    },
    "fbc951015ca743dfa624792f8ef230e8": {
     "model_module": "@jupyter-widgets/controls",
     "model_name": "IntProgressModel",
     "state": {
      "_dom_classes": [],
      "_model_module": "@jupyter-widgets/controls",
      "_model_module_version": "1.5.0",
      "_model_name": "IntProgressModel",
      "_view_count": null,
      "_view_module": "@jupyter-widgets/controls",
      "_view_module_version": "1.5.0",
      "_view_name": "ProgressView",
      "bar_style": "success",
      "description": "Processing data: 100%",
      "description_tooltip": null,
      "layout": "IPY_MODEL_a232c992b8a04123a5aa8a069b036bb3",
      "max": 2271,
      "min": 0,
      "orientation": "horizontal",
      "style": "IPY_MODEL_5c164bb535cc41778743e3f78849449f",
      "value": 2271
     }
    },
    "fe830462dd8446ba9d9425bc83b2982c": {
     "model_module": "@jupyter-widgets/base",
     "model_name": "LayoutModel",
     "state": {
      "_model_module": "@jupyter-widgets/base",
      "_model_module_version": "1.2.0",
      "_model_name": "LayoutModel",
      "_view_count": null,
      "_view_module": "@jupyter-widgets/base",
      "_view_module_version": "1.2.0",
      "_view_name": "LayoutView",
      "align_content": null,
      "align_items": null,
      "align_self": null,
      "border": null,
      "bottom": null,
      "display": null,
      "flex": null,
      "flex_flow": null,
      "grid_area": null,
      "grid_auto_columns": null,
      "grid_auto_flow": null,
      "grid_auto_rows": null,
      "grid_column": null,
      "grid_gap": null,
      "grid_row": null,
      "grid_template_areas": null,
      "grid_template_columns": null,
      "grid_template_rows": null,
      "height": null,
      "justify_content": null,
      "justify_items": null,
      "left": null,
      "margin": null,
      "max_height": null,
      "max_width": null,
      "min_height": null,
      "min_width": null,
      "object_fit": null,
      "object_position": null,
      "order": null,
      "overflow": null,
      "overflow_x": null,
      "overflow_y": null,
      "padding": null,
      "right": null,
      "top": null,
      "visibility": null,
      "width": null
     }
    }
   }
  }
 },
 "nbformat": 4,
 "nbformat_minor": 1
}
