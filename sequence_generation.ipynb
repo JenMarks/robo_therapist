{
 "cells": [
  {
   "cell_type": "markdown",
   "metadata": {
    "toc": true
   },
   "source": [
    "<h1>Table of Contents<span class=\"tocSkip\"></span></h1>\n",
    "<div class=\"toc\"><ul class=\"toc-item\"><li><span><a href=\"#Generation-Notebook\" data-toc-modified-id=\"Generation-Notebook-1\"><span class=\"toc-item-num\">1&nbsp;&nbsp;</span>Generation Notebook</a></span><ul class=\"toc-item\"><li><span><a href=\"#Loading\" data-toc-modified-id=\"Loading-1.1\"><span class=\"toc-item-num\">1.1&nbsp;&nbsp;</span>Loading</a></span></li><li><span><a href=\"#Patient-Case\" data-toc-modified-id=\"Patient-Case-1.2\"><span class=\"toc-item-num\">1.2&nbsp;&nbsp;</span>Patient Case</a></span></li><li><span><a href=\"#Therapist-Response-Generation\" data-toc-modified-id=\"Therapist-Response-Generation-1.3\"><span class=\"toc-item-num\">1.3&nbsp;&nbsp;</span>Therapist Response Generation</a></span></li></ul></li></ul></div>"
   ]
  },
  {
   "cell_type": "markdown",
   "metadata": {
    "colab_type": "text",
    "id": "P7GcTxpXdYcA"
   },
   "source": [
    "# Generation Notebook\n",
    "---\n",
    "Running this notebook allows you to generate therapist responses from a pre-trained model saved on Google Drive. The code is pretty straight forward to follow, but you have to make sure you that you have access to a GPU machine. If you are running this via Colab, make sure to enable the GPU processing before you run the notebook."
   ]
  },
  {
   "cell_type": "code",
   "execution_count": 0,
   "metadata": {
    "colab": {},
    "colab_type": "code",
    "id": "J2ghLbJ0W1fu"
   },
   "outputs": [],
   "source": [
    "!pip install transformers"
   ]
  },
  {
   "cell_type": "code",
   "execution_count": 2,
   "metadata": {
    "colab": {
     "base_uri": "https://localhost:8080/",
     "height": 122
    },
    "colab_type": "code",
    "id": "aWqHWjp5XSzi",
    "outputId": "b06ca31a-da1b-4d92-c16f-228e826d135f"
   },
   "outputs": [
    {
     "name": "stdout",
     "output_type": "stream",
     "text": [
      "Go to this URL in a browser: https://accounts.google.com/o/oauth2/auth?client_id=947318989803-6bn6qk8qdgf4n4g3pfee6491hc0brc4i.apps.googleusercontent.com&redirect_uri=urn%3aietf%3awg%3aoauth%3a2.0%3aoob&response_type=code&scope=email%20https%3a%2f%2fwww.googleapis.com%2fauth%2fdocs.test%20https%3a%2f%2fwww.googleapis.com%2fauth%2fdrive%20https%3a%2f%2fwww.googleapis.com%2fauth%2fdrive.photos.readonly%20https%3a%2f%2fwww.googleapis.com%2fauth%2fpeopleapi.readonly\n",
      "\n",
      "Enter your authorization code:\n",
      "··········\n",
      "Mounted at /gdrive\n"
     ]
    }
   ],
   "source": [
    "from google.colab import drive\n",
    "import sys\n",
    "drive.mount('/gdrive')\n",
    "sys.path.append('../gdrive/My Drive/')\n",
    "from resources.model_utils import generate\n",
    "from transformers import GPT2Tokenizer, GPT2LMHeadModel\n",
    "from resources.general_utils import gpu_information_summary\n",
    "from termcolor import colored"
   ]
  },
  {
   "cell_type": "markdown",
   "metadata": {
    "colab_type": "text",
    "id": "742Gn96kd5dm"
   },
   "source": [
    "## Loading\n",
    "---\n",
    "Here we are loading the pre-trained model saved in Google Drive."
   ]
  },
  {
   "cell_type": "code",
   "execution_count": 0,
   "metadata": {
    "colab": {},
    "colab_type": "code",
    "id": "9YlnafxFaap4"
   },
   "outputs": [],
   "source": [
    "fine_tuned_dir = \"../gdrive/My Drive/fine_tuned/\"\n",
    "model = GPT2LMHeadModel.from_pretrained(fine_tuned_dir)\n",
    "tokenizer = GPT2Tokenizer.from_pretrained(fine_tuned_dir)"
   ]
  },
  {
   "cell_type": "markdown",
   "metadata": {
    "colab_type": "text",
    "id": "vgM0AWAweGdG"
   },
   "source": [
    "## Patient Case\n",
    "Below you can enter, a patient case and see how the model performs. Note that we are using the `.` as a special token so you cannot use it elsewhere in a sentence (i.e. you must have a single period only at the end of your sentence). \n",
    "\n",
    "Your sentence should also not include any other **punctuation** marks as we purged them during model training.\n"
   ]
  },
  {
   "cell_type": "code",
   "execution_count": 0,
   "metadata": {
    "colab": {},
    "colab_type": "code",
    "id": "jVSJyWZfbBqU"
   },
   "outputs": [],
   "source": [
    "patient_case = \"I have so many issues to address I have a history of sexual abuse I’m a breast cancer survivor and I am a lifetime insomniac  I have a long history of depression and I’m beginning to have anxiety I have low self esteem but I’ve been happily married for almost 35 years  I’ve never had counseling about any of this Do I have too many issues to address in counseling.\""
   ]
  },
  {
   "cell_type": "markdown",
   "metadata": {
    "colab_type": "text",
    "id": "rr7-MFMKe4yE"
   },
   "source": [
    "## Therapist Response Generation\n",
    "Below we will generate 3 probable sequences a therapist might say. In blue you will see the patient's case and in green the possible therapist's response. A cherry picked example is produced below and we have it here:\n",
    " * **Patient**: I have so many issues to address I have a history of sexual abuse I’m a breast cancer survivor and I am a lifetime insomniac  I have a long history of depression and I’m beginning to have anxiety I have low self esteem but I’ve been happily married for almost 35 years  I’ve never had counseling about any of this Do I have too many issues to address in counseling.\n",
    " * **Therapist**: Yes there are plenty of issues that you might want to address but perhaps the most important are the ones you have worked through before you have had counseling.\n",
    "\n",
    "Here in the reflection, the algorithm understands that there are too many issues to be addressed with the patient and rather than reitterating all those points, the algorithm points this fact out."
   ]
  },
  {
   "cell_type": "code",
   "execution_count": 17,
   "metadata": {
    "colab": {
     "base_uri": "https://localhost:8080/",
     "height": 224
    },
    "colab_type": "code",
    "id": "H83OCmsfbJK0",
    "outputId": "97e050d7-8cb3-451b-9f55-5a96f9e4cc5a"
   },
   "outputs": [
    {
     "name": "stderr",
     "output_type": "stream",
     "text": [
      "Setting `pad_token_id` to 50256 (first `eos_token_id`) to generate sequence\n"
     ]
    },
    {
     "name": "stdout",
     "output_type": "stream",
     "text": [
      "------------------------------\n",
      "\u001b[2m\u001b[1m\u001b[34mI have so many issues to address I have a history of sexual abuse I’m a breast cancer survivor and I am a lifetime insomniac  I have a long history of depression and I’m beginning to have anxiety I have low self esteem but I’ve been happily married for almost 35 years  I’ve never had counseling about any of this Do I have too many issues to address in counseling.\u001b[0m\n",
      "\u001b[2m\u001b[1m\u001b[32m.Yes there are plenty of issues that you might want to address but perhaps the most important are the ones you have worked through before you have had counseling.\u001b[0m\n",
      "------------------------------\n",
      "\u001b[2m\u001b[1m\u001b[34mI have so many issues to address I have a history of sexual abuse I’m a breast cancer survivor and I am a lifetime insomniac  I have a long history of depression and I’m beginning to have anxiety I have low self esteem but I’ve been happily married for almost 35 years  I’ve never had counseling about any of this Do I have too many issues to address in counseling.\u001b[0m\n",
      "\u001b[2m\u001b[1m\u001b[32m.Hi there.\u001b[0m\n",
      "------------------------------\n",
      "\u001b[2m\u001b[1m\u001b[34mI have so many issues to address I have a history of sexual abuse I’m a breast cancer survivor and I am a lifetime insomniac  I have a long history of depression and I’m beginning to have anxiety I have low self esteem but I’ve been happily married for almost 35 years  I’ve never had counseling about any of this Do I have too many issues to address in counseling.\u001b[0m\n",
      "\u001b[2m\u001b[1m\u001b[32m.Unfortunately what you have is too many issues to address in counseling.\u001b[0m\n",
      "------------------------------\n"
     ]
    }
   ],
   "source": [
    "input_generate = {\n",
    "    \"text\": patient_case,\n",
    "    \"tokenizer\": tokenizer,\n",
    "    \"model\": model,\n",
    "    \"stop_token\": None,\n",
    "    \"length\": 1024,\n",
    "    \"num_return_sequences\": 3,\n",
    "    \"temperature\": 1,\n",
    "    \"k\": 100,\n",
    "    \"p\": 0.95,\n",
    "}\n",
    "\n",
    "results = generate(**input_generate)\n",
    "print(\"-\"*30)\n",
    "for seqs in results:\n",
    "  print(colored(seqs[0], \"blue\",attrs=[\"bold\", \"dark\"]))\n",
    "  print(colored(seqs[1], \"green\",attrs=[\"bold\", \"dark\"]))\n",
    "  print(\"-\"*30)"
   ]
  }
 ],
 "metadata": {
  "accelerator": "GPU",
  "colab": {
   "name": "sequence_generation.ipynb",
   "provenance": []
  },
  "kernelspec": {
   "display_name": "Python 3 (ipykernel)",
   "language": "python",
   "name": "python3"
  },
  "language_info": {
   "codemirror_mode": {
    "name": "ipython",
    "version": 3
   },
   "file_extension": ".py",
   "mimetype": "text/x-python",
   "name": "python",
   "nbconvert_exporter": "python",
   "pygments_lexer": "ipython3",
   "version": "3.8.16"
  },
  "toc": {
   "base_numbering": 1,
   "nav_menu": {},
   "number_sections": true,
   "sideBar": true,
   "skip_h1_title": false,
   "title_cell": "Table of Contents",
   "title_sidebar": "Contents",
   "toc_cell": true,
   "toc_position": {},
   "toc_section_display": true,
   "toc_window_display": false
  }
 },
 "nbformat": 4,
 "nbformat_minor": 1
}
